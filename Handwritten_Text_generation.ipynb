{
  "nbformat": 4,
  "nbformat_minor": 0,
  "metadata": {
    "colab": {
      "provenance": [],
      "authorship_tag": "ABX9TyMWkuUzkTE6bXS7iVh8Sz1z",
      "include_colab_link": true
    },
    "kernelspec": {
      "name": "python3",
      "display_name": "Python 3"
    },
    "language_info": {
      "name": "python"
    }
  },
  "cells": [
    {
      "cell_type": "markdown",
      "metadata": {
        "id": "view-in-github",
        "colab_type": "text"
      },
      "source": [
        "<a href=\"https://colab.research.google.com/github/Jeevikavishwakarma/Handwritten_text_generation_model/blob/main/Handwritten_Text_generation.ipynb\" target=\"_parent\"><img src=\"https://colab.research.google.com/assets/colab-badge.svg\" alt=\"Open In Colab\"/></a>"
      ]
    },
    {
      "cell_type": "code",
      "source": [
        "!pip install torch numpy matplotlib --quiet"
      ],
      "metadata": {
        "id": "5cprXS0Gg2nm"
      },
      "execution_count": null,
      "outputs": []
    },
    {
      "cell_type": "code",
      "source": [
        "#Imports\n",
        "import torch\n",
        "import torch.nn as nn\n",
        "import numpy as np\n",
        "import matplotlib.pyplot as plt\n",
        "from torch.utils.data import Dataset, DataLoader"
      ],
      "metadata": {
        "id": "ebL-w_E9hzmz"
      },
      "execution_count": null,
      "outputs": []
    },
    {
      "cell_type": "code",
      "source": [
        "class CharEncoder(nn.Module):\n",
        "    def __init__(self, vocab_size, embedding_dim):\n",
        "        super(CharEncoder, self).__init__()\n",
        "        self.embedding = nn.Embedding(vocab_size, embedding_dim)\n",
        "\n",
        "    def forward(self, x):\n",
        "        return self.embedding(x)"
      ],
      "metadata": {
        "id": "ut-uI_1mi09S"
      },
      "execution_count": null,
      "outputs": []
    },
    {
      "cell_type": "code",
      "source": [
        "class StrokeRNN(nn.Module):\n",
        "    def __init__(self, input_dim, hidden_dim, output_dim, num_layers=2):\n",
        "        super(StrokeRNN, self).__init__()\n",
        "        self.rnn = nn.LSTM(input_dim, hidden_dim, num_layers, batch_first=True)\n",
        "        self.fc = nn.Linear(hidden_dim, output_dim)\n",
        "\n",
        "    def forward(self, x):\n",
        "        output, _ = self.rnn(x)\n",
        "        output = self.fc(output)\n",
        "        return output"
      ],
      "metadata": {
        "id": "WrQN_3Lai5_o"
      },
      "execution_count": null,
      "outputs": []
    },
    {
      "cell_type": "code",
      "source": [
        "def build_vocab():\n",
        "    chars = list(\"abcdefghijklmnopqrstuvwxyzABCDEFGHIJKLMNOPQRSTUVWXYZ .,!?\")\n",
        "    stoi = {ch: i+1 for i, ch in enumerate(chars)}  # 0 is padding\n",
        "    itos = {i+1: ch for ch, i in stoi.items()}\n",
        "    return stoi, itos"
      ],
      "metadata": {
        "id": "CR-mNE_ei9A1"
      },
      "execution_count": null,
      "outputs": []
    },
    {
      "cell_type": "code",
      "source": [
        "def text_to_tensor(text, stoi):\n",
        "    indices = [stoi.get(ch, 0) for ch in text]\n",
        "    return torch.tensor(indices).unsqueeze(0)  # shape: (1, len)\n"
      ],
      "metadata": {
        "id": "bbnayVEAi_Ke"
      },
      "execution_count": null,
      "outputs": []
    },
    {
      "cell_type": "code",
      "source": [
        "def generate_handwriting(text, encoder, rnn, stoi):\n",
        "    x = text_to_tensor(text, stoi)\n",
        "    embedded = encoder(x)\n",
        "    output = rnn(embedded).squeeze(0).detach().numpy()\n",
        "    return output"
      ],
      "metadata": {
        "id": "6_w-cifOjBu2"
      },
      "execution_count": null,
      "outputs": []
    },
    {
      "cell_type": "code",
      "source": [
        "def plot_strokes(strokes):\n",
        "    x, y = 0, 0\n",
        "    pen = 0\n",
        "    x_vals, y_vals = [], []\n",
        "    for dx, dy, pen in strokes:\n",
        "        x += dx\n",
        "        y += dy\n",
        "        if pen < 0.5:\n",
        "            x_vals.append(x)\n",
        "            y_vals.append(y)\n",
        "        else:\n",
        "            plt.plot(x_vals, y_vals, 'k-')\n",
        "            x_vals, y_vals = [], []\n",
        "    plt.plot(x_vals, y_vals, 'k-')\n",
        "    plt.gca().invert_yaxis()\n",
        "    plt.axis('off')\n",
        "    plt.show()\n"
      ],
      "metadata": {
        "id": "hNCTFEJ0jD7J"
      },
      "execution_count": null,
      "outputs": []
    },
    {
      "cell_type": "code",
      "source": [
        "# Config\n",
        "vocab, _ = build_vocab()\n",
        "encoder = CharEncoder(vocab_size=len(vocab)+1, embedding_dim=16)\n",
        "rnn = StrokeRNN(input_dim=16, hidden_dim=128, output_dim=3)\n",
        "\n",
        "# Generate handwriting\n",
        "text = \"hello world\"\n",
        "strokes = generate_handwriting(text, encoder, rnn, vocab)\n",
        "\n",
        "# Scale outputs to look like strokes\n",
        "strokes[:, :2] *= 2  # dx, dy\n",
        "strokes[:, 2] = (strokes[:, 2] > 0).astype(float)  # pen state: 0/1\n",
        "\n",
        "# Plot it\n",
        "plot_strokes(strokes)"
      ],
      "metadata": {
        "colab": {
          "base_uri": "https://localhost:8080/",
          "height": 406
        },
        "id": "8bS5RPM5jGqD",
        "outputId": "e9b55813-974e-4a31-bf4f-eb188d4e2fdd"
      },
      "execution_count": null,
      "outputs": [
        {
          "output_type": "display_data",
          "data": {
            "text/plain": [
              "<Figure size 640x480 with 1 Axes>"
            ],
            "image/png": "[encoded data removed]"
          },
          "metadata": {}
        }
      ]
    },
    {
      "cell_type": "code",
      "source": [
        "import numpy as np\n",
        "import matplotlib.pyplot as plt\n",
        "\n",
        "# Fake stroke generator for characters\n",
        "def stroke_for_char(char, offset=0):\n",
        "    np.random.seed(ord(char))  # make it deterministic per character\n",
        "    strokes = []\n",
        "    x, y = offset, 0\n",
        "    for _ in range(10):\n",
        "        dx = np.random.randn() * 0.5\n",
        "        dy = np.random.randn() * 0.5\n",
        "        pen = 0 if np.random.rand() > 0.1 else 1\n",
        "        x += dx\n",
        "        y += dy\n",
        "        strokes.append([x, y, pen])\n",
        "    return strokes\n",
        "\n",
        "# Combine strokes for a word\n",
        "def generate_strokes_for_text(text):\n",
        "    full_stroke = []\n",
        "    offset = 0\n",
        "    for ch in text:\n",
        "        stroke = stroke_for_char(ch, offset)\n",
        "        full_stroke.extend(stroke)\n",
        "        offset += 8  # space between characters\n",
        "    return np.array(full_stroke)\n",
        "\n",
        "# Plotting strokes\n",
        "def plot_strokes(stroke_seq):\n",
        "    x_vals, y_vals = [], []\n",
        "    for x, y, pen in stroke_seq:\n",
        "        if pen < 0.5:\n",
        "            x_vals.append(x)\n",
        "            y_vals.append(y)\n",
        "        else:\n",
        "            plt.plot(x_vals, y_vals, 'k-', linewidth=2)\n",
        "            x_vals, y_vals = [], []\n",
        "    plt.plot(x_vals, y_vals, 'k-', linewidth=2)\n",
        "    plt.gca().invert_yaxis()\n",
        "    plt.axis('off')\n",
        "    plt.show()\n",
        "\n",
        "# 👇 Try it with your own text\n",
        "text_input = \"hello world\"\n",
        "generated = generate_strokes_for_text(text_input)\n",
        "plot_strokes(generated)"
      ],
      "metadata": {
        "colab": {
          "base_uri": "https://localhost:8080/",
          "height": 406
        },
        "id": "qkrZ8yx1jqIp",
        "outputId": "1121bdb2-a9cf-455d-9cb6-3146e31d6d19"
      },
      "execution_count": null,
      "outputs": [
        {
          "output_type": "display_data",
          "data": {
            "text/plain": [
              "<Figure size 640x480 with 1 Axes>"
            ],
            "image/png": "[encoded data removed]"
          },
          "metadata": {}
        }
      ]
    }
  ]
}